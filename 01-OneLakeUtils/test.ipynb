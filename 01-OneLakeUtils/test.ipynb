{
 "cells": [
  {
   "cell_type": "markdown",
   "metadata": {},
   "source": [
    "### **Install/Update Packages**"
   ]
  },
  {
   "cell_type": "code",
   "execution_count": null,
   "metadata": {},
   "outputs": [],
   "source": [
    "%pip install -r ../requirements.txt --upgrade"
   ]
  },
  {
   "cell_type": "markdown",
   "metadata": {},
   "source": [
    "### **Import Modulues & Assign Authentication Toke**"
   ]
  },
  {
   "cell_type": "code",
   "execution_count": 2,
   "metadata": {},
   "outputs": [],
   "source": [
    "%run ../main.py\n",
    "\n",
    "# Create an instance of FabricAuth\n",
    "fabric_auth = FabricAuth()\n",
    "\n",
    "# Create an instance of OneLakeUtils\n",
    "onelake_ops = OneLakeUtils()\n",
    "\n",
    "# Get Authentication Token\n",
    "token = fabric_auth.get_authentication_token()\n",
    "\n",
    "# Get File System Client\n",
    "file_system_client = fabric_auth.get_file_system_client(token)"
   ]
  },
  {
   "cell_type": "markdown",
   "metadata": {},
   "source": [
    "### **Write to Lakehouse (Files/Tables)**"
   ]
  },
  {
   "cell_type": "markdown",
   "metadata": {},
   "source": [
    "#### **Local Tables (Delta)**"
   ]
  },
  {
   "cell_type": "code",
   "execution_count": null,
   "metadata": {},
   "outputs": [],
   "source": [
    "# Single Table\n",
    "onelake_ops.write_to_lakehouse(\n",
    "    file_system_client=file_system_client\n",
    "    ,upload_from=\"local\"\n",
    "    ,source_path=\"../data/Tables/venture_funding_deals_delta\"\n",
    "    ,target_path=\"Tables/local_venture_funding_deals_delta\"\n",
    ")\n",
    "\n",
    "# Multiple Tables in a Folder\n",
    "onelake_ops.write_to_lakehouse(\n",
    "    file_system_client=file_system_client\n",
    "    ,upload_from=\"local\"\n",
    "    ,source_path=\"../data/Tables\"\n",
    "    ,target_path=\"Tables/\"\n",
    ")"
   ]
  },
  {
   "cell_type": "markdown",
   "metadata": {},
   "source": [
    "#### **Local Files/Folders**"
   ]
  },
  {
   "cell_type": "code",
   "execution_count": null,
   "metadata": {},
   "outputs": [],
   "source": [
    "# Whole Folder\n",
    "onelake_ops.write_to_lakehouse(\n",
    "    file_system_client=file_system_client\n",
    "    ,upload_from=\"local\"\n",
    "    ,source_path=\"../data/Files\"\n",
    "    ,target_path=\"Files/\"\n",
    ")\n",
    "\n",
    "# Individual Subfolder inside a Folder\n",
    "onelake_ops.write_to_lakehouse(\n",
    "    file_system_client=file_system_client\n",
    "    ,upload_from=\"local\"\n",
    "    ,source_path=\"../data/Files/Contoso\"\n",
    "    ,target_path=\"Files/Contoso\"\n",
    ")\n",
    "\n",
    "# Specific File in a Folder\n",
    "onelake_ops.write_to_lakehouse(\n",
    "    file_system_client=file_system_client\n",
    "    ,upload_from=\"local\"\n",
    "    ,source_path=\"../data/Files/Contoso/contoso_sales.csv\"\n",
    "    ,target_path=\"Files/Contoso/contoso_sales.csv\"\n",
    ")"
   ]
  },
  {
   "cell_type": "markdown",
   "metadata": {},
   "source": [
    "#### **GitHub (Public Repo)** "
   ]
  },
  {
   "cell_type": "code",
   "execution_count": null,
   "metadata": {},
   "outputs": [],
   "source": [
    "# Whole GitHub repository\n",
    "onelake_ops.write_to_lakehouse(\n",
    "    file_system_client=file_system_client,\n",
    "    upload_from=\"github\",\n",
    "    source_path=\"https://github.com/renan-peres/Polars-Cookbook.git\",\n",
    "    target_path=\"Files/GitHub/Polars-Cookbook\"\n",
    ")\n",
    "\n",
    "# Single Table (Delta) in Repository\n",
    "onelake_ops.write_to_lakehouse(\n",
    "    file_system_client=file_system_client,\n",
    "    upload_from=\"github\",\n",
    "    source_path=\"https://github.com/renan-peres/Polars-Cookbook.git\",\n",
    "    target_path=\"Tables/github_venture_funding_deals_delta\",\n",
    "    folder_path=\"data/venture_funding_deals_delta\"\n",
    ")\n",
    "\n",
    "# Specific folder from GitHub repository\n",
    "onelake_ops.write_to_lakehouse(\n",
    "    file_system_client=file_system_client,\n",
    "    upload_from=\"github\",\n",
    "    source_path=\"https://github.com/renan-peres/Polars-Cookbook.git\",\n",
    "    target_path=\"Files/GitHub/data\",\n",
    "    folder_path=\"data\"\n",
    ")"
   ]
  },
  {
   "cell_type": "markdown",
   "metadata": {},
   "source": [
    "#### **GitHub (Private Repo)** "
   ]
  },
  {
   "cell_type": "code",
   "execution_count": null,
   "metadata": {},
   "outputs": [],
   "source": [
    "# Whole GitHub private repository\n",
    "onelake_ops.write_to_lakehouse(\n",
    "    file_system_client=file_system_client,\n",
    "    upload_from=\"github_private\",\n",
    "    repo_name=os.getenv(\"GITHUB_REPO_NAME\"),\n",
    "    target_path=f\"Files/GitHub/{os.getenv('GITHUB_REPO_NAME')}\"\n",
    ")\n",
    "\n",
    "# Specific folder from GitHub private repository\n",
    "onelake_ops.write_to_lakehouse(\n",
    "    file_system_client=file_system_client,\n",
    "    upload_from=\"github_private\",\n",
    "    repo_name=os.getenv(\"GITHUB_REPO_NAME\"),\n",
    "    target_path=\"Files/GitHub/data\",\n",
    "    folder_path=\"data\"\n",
    ")"
   ]
  },
  {
   "cell_type": "markdown",
   "metadata": {},
   "source": [
    "#### **Azure DevOps (Private Repo)**"
   ]
  },
  {
   "cell_type": "code",
   "execution_count": null,
   "metadata": {},
   "outputs": [],
   "source": [
    "# Whole Azure DevOps repository\n",
    "onelake_ops.write_to_lakehouse(\n",
    "    file_system_client=file_system_client,\n",
    "    upload_from=\"azure_devops\",\n",
    "    project_name=os.getenv(\"PROJECT_NAME\"),\n",
    "    repo_name=os.getenv(\"REPO_NAME\"),\n",
    "    target_path=f\"Files/AzureDevOps/{os.getenv('REPO_NAME')}\"\n",
    ")\n",
    "\n",
    "# Specific folder from Azure DevOps repository\n",
    "onelake_ops.write_to_lakehouse(\n",
    "    file_system_client=file_system_client,\n",
    "    upload_from=\"azure_devops\",\n",
    "    project_name=os.getenv(\"PROJECT_NAME\"),\n",
    "    repo_name=os.getenv(\"REPO_NAME\"),\n",
    "    target_path=\"Files/AzureDevOps/data\",\n",
    "    folder_path=\"/data\"\n",
    ")"
   ]
  },
  {
   "cell_type": "markdown",
   "metadata": {},
   "source": [
    "### **List Items from Lakehouse (Files/Tables)**"
   ]
  },
  {
   "cell_type": "code",
   "execution_count": null,
   "metadata": {},
   "outputs": [],
   "source": [
    "# List All Items in Lakehouse\n",
    "onelake_ops.list_items(file_system_client=file_system_client\n",
    "                     ,target_directory_path=\"Tables\" # Tables or Files\n",
    "                     ,print_output= True # Optional\n",
    "                     )"
   ]
  },
  {
   "cell_type": "markdown",
   "metadata": {},
   "source": [
    "### **Read Delta Table from Lakehouse**"
   ]
  },
  {
   "cell_type": "code",
   "execution_count": null,
   "metadata": {},
   "outputs": [],
   "source": [
    "import polars as pl\n",
    "\n",
    "local_path = onelake_ops.read_delta_from_fabric_lakehouse(\n",
    "    file_system_client=file_system_client\n",
    "    ,target_file_path=\"Tables/venture_funding_deals_delta_partitioned\"\n",
    ")\n",
    "\n",
    "# Read Download Delta Tables\n",
    "df = pl.scan_delta(local_path).collect()\n",
    "\n",
    "# Delete the downloaded files\n",
    "onelake_ops.delete_local_path(local_path)\n",
    "\n",
    "# Display DataFrame\n",
    "display(df)"
   ]
  },
  {
   "cell_type": "markdown",
   "metadata": {},
   "source": [
    "### **Download Items from Lakehouse (Files/Tables)**"
   ]
  },
  {
   "cell_type": "code",
   "execution_count": null,
   "metadata": {},
   "outputs": [],
   "source": [
    "# Tables\n",
    "onelake_ops.download_from_lakehouse(\n",
    "    file_system_client=file_system_client\n",
    "    # ,target_file_path=\"Tables/venture_funding_deals\" # Single Table\n",
    "    ,target_file_path=\"Tables/\" # All Tables\n",
    ")\n",
    "\n",
    "# Files\n",
    "onelake_ops.download_from_lakehouse(\n",
    "    file_system_client=file_system_client\n",
    "    # ,target_file_path=\"Files/Contoso/contoso_sales.csv\" # Single File\n",
    "    # ,target_file_path=\"Files/Contoso/\" # Subfolder\n",
    "    ,target_file_path=\"Files/\" # All Subfolders & Files\n",
    ")"
   ]
  },
  {
   "cell_type": "markdown",
   "metadata": {},
   "source": [
    "### **Delete Items from Lakehouse (Files/Tables)**"
   ]
  },
  {
   "cell_type": "code",
   "execution_count": null,
   "metadata": {},
   "outputs": [],
   "source": [
    "# Tables\n",
    "onelake_ops.delete_file(\n",
    "    file_system_client=file_system_client\n",
    "    # ,lakehouse_dir_path=\"Tables/venture_funding_deals_delta\" # Single Table\n",
    "    ,lakehouse_dir_path=\"Tables/\" # All Tables\n",
    ")\n",
    "\n",
    "# Files\n",
    "onelake_ops.delete_file(\n",
    "    file_system_client=file_system_client \n",
    "    # ,lakehouse_dir_path=\"Files/Contoso/contoso_sales.csv\" # Single File\n",
    "    # ,lakehouse_dir_path=\"Files/Contoso\" # Subfolder\n",
    "    ,lakehouse_dir_path=\"Files/\" # All Subfolders & Files\n",
    ")"
   ]
  }
 ],
 "metadata": {
  "kernelspec": {
   "display_name": "Python 3",
   "language": "python",
   "name": "python3"
  },
  "language_info": {
   "codemirror_mode": {
    "name": "ipython",
    "version": 3
   },
   "file_extension": ".py",
   "mimetype": "text/x-python",
   "name": "python",
   "nbconvert_exporter": "python",
   "pygments_lexer": "ipython3",
   "version": "3.12.3"
  }
 },
 "nbformat": 4,
 "nbformat_minor": 2
}
