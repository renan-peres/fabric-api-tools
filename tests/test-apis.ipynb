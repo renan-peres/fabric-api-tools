{
 "cells": [
  {
   "cell_type": "code",
   "execution_count": null,
   "metadata": {},
   "outputs": [],
   "source": [
    "%pip install git+https://github.com/renan-peres/fabric-remote-tools.git\n",
    "from fabric_remote_tools import FabricAuthOperations, OneLakeFileUtils, FabricAPIOperations\n",
    "\n",
    "# Initialize the classes\n",
    "auth_ops = FabricAuthOperations()\n",
    "onelake_ops = OneLakeFileUtils()\n",
    "fabric_ops = FabricAPIOperations()"
   ]
  },
  {
   "cell_type": "code",
   "execution_count": null,
   "metadata": {},
   "outputs": [],
   "source": [
    "# Get a bearer token\n",
    "token = auth_ops.get_bearer_token()"
   ]
  }
 ],
 "metadata": {
  "kernelspec": {
   "display_name": "Python 3",
   "language": "python",
   "name": "python3"
  },
  "language_info": {
   "codemirror_mode": {
    "name": "ipython",
    "version": 3
   },
   "file_extension": ".py",
   "mimetype": "text/x-python",
   "name": "python",
   "nbconvert_exporter": "python",
   "pygments_lexer": "ipython3",
   "version": "3.12.3"
  }
 },
 "nbformat": 4,
 "nbformat_minor": 2
}
