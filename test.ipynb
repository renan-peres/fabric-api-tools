{
 "cells": [
  {
   "cell_type": "markdown",
   "metadata": {},
   "source": [
    "## **Authenticate Fabric & Assign to Variables**"
   ]
  },
  {
   "cell_type": "code",
   "execution_count": null,
   "metadata": {},
   "outputs": [],
   "source": [
    "%run main.py\n",
    "\n",
    "# Initiate FabricAuthOperations\n",
    "fabric_auth = FabricAuthOperations()\n",
    "\n",
    "# Get Authentication token and Save into 'token_store.json'\n",
    "token = fabric_auth.get_bearer_token()\n",
    "\n",
    "# Initiate OneLakeFileUtils\n",
    "onelake_ops = OneLakeFileUtils()\n",
    "\n",
    "# Initiate FabricAPIOperations\n",
    "fabric_ops = FabricAPIOperations()"
   ]
  },
  {
   "cell_type": "markdown",
   "metadata": {},
   "source": [
    "## **Import/Create Notebook**\n",
    "**Reference:** [Create a notebook with a definition](https://learn.microsoft.com/en-us/fabric/data-engineering/notebook-public-api#create-a-notebook-with-a-definition)"
   ]
  },
  {
   "cell_type": "code",
   "execution_count": null,
   "metadata": {},
   "outputs": [],
   "source": [
    "# Create Notebook in Workspace\n",
    "fabric_ops.import_notebook_to_fabric(\n",
    "    token=token,\n",
    "    upload_from=\"github\",  # ('local', 'lakehouse', or 'github')\n",
    "    # source_path=\"Files/GitHub/notebooks/R in Spark/R_in_PySpark_Notebooks.ipynb\", # lakehouse\n",
    "    source_path=\"https://github.com/renan-peres/Polars-Cookbook/blob/main/Chapter07/ch07.ipynb\", # github\n",
    "    # source_path=\"test.ipynb\", # local\n",
    "    known_lakehouses=[\"3b9aef1c-59f2-47d9-a8b2-d8b234536427\", \"46389222-328e-4e65-aa06-02a380dd60d8\"], # [LH_Test (Default), LH_bronze]\n",
    "    # Optional parameters:\n",
    "    # default_lakehouse_id=\"46389222-328e-4e65-aa06-02a380dd60d8\", # LH_bronze\n",
    "    # default_lakehouse_workspace_id=\"custom_workspace_id\",\n",
    "    # environment_id=\"custom_environment_id\",\n",
    "    # environment_workspace_id=\"custom_environmet_workspace_id\"\n",
    ")"
   ]
  },
  {
   "cell_type": "markdown",
   "metadata": {},
   "source": [
    "## **Run Spark Notebook**\n",
    "**Reference:** [Run a notebook on demand](https://learn.microsoft.com/en-us/fabric/data-engineering/notebook-public-api#run-a-notebook-on-demand)"
   ]
  },
  {
   "cell_type": "code",
   "execution_count": null,
   "metadata": {},
   "outputs": [],
   "source": [
    "notebook_id = os.getenv(\"NOTEBOOK_ID\")\n",
    "\n",
    "fabric_ops.run_notebook_job(\n",
    "    token=token,\n",
    "    notebook_id=notebook_id,\n",
    "    # Optional parameters:\n",
    "    # workspace_id=\"your_workspace_id\",\n",
    "    # lakehouse_id=\"your_lakehouse_id\",\n",
    "    # lakehouse_name=\"your_lakehouse_name\"\n",
    ")"
   ]
  },
  {
   "cell_type": "markdown",
   "metadata": {},
   "source": [
    "## **Run Data Pipeline**\n",
    "**Reference:** [Microsoft Fabric data pipeline public REST API](https://learn.microsoft.com/en-us/fabric/data-factory/pipeline-rest-api)"
   ]
  },
  {
   "cell_type": "code",
   "execution_count": null,
   "metadata": {},
   "outputs": [],
   "source": [
    "pipeline_id = os.getenv(\"PIPELINE_ID\")\n",
    "\n",
    "fabric_ops.trigger_pipeline_job(\n",
    "    token=token,\n",
    "    pipeline_id=pipeline_id,\n",
    "    # Optional parameter:\n",
    "    # workspace_id=\"3b9aef1c-59f2-47d9-a8b2-d8b234536427\"\n",
    ")"
   ]
  },
  {
   "cell_type": "markdown",
   "metadata": {},
   "source": [
    "## **Run Delta Table Maintenance (REST API)**\n",
    "**Reference:** [Background Jobs - Run On Demand Table Maintenance](https://learn.microsoft.com/en-us/rest/api/fabric/lakehouse/background-jobs/run-on-demand-table-maintenance?tabs=HTTP)"
   ]
  },
  {
   "cell_type": "markdown",
   "metadata": {},
   "source": [
    "#### **Single Table**"
   ]
  },
  {
   "cell_type": "code",
   "execution_count": null,
   "metadata": {},
   "outputs": [],
   "source": [
    "fabric_ops.trigger_table_maintenance_job(table_name=\"dim_coa_gold\", token=token)"
   ]
  },
  {
   "cell_type": "markdown",
   "metadata": {},
   "source": [
    "#### **All Tables**"
   ]
  },
  {
   "cell_type": "code",
   "execution_count": null,
   "metadata": {},
   "outputs": [],
   "source": [
    "# Get the filtered subdirectory names for \"Tables\"\n",
    "filtered_tables = onelake_ops.list_items(file_system_client=file_system_client, target_directory_path=\"Tables\")\n",
    "\n",
    "# Define batch size and delay between batches\n",
    "batch_size = 5\n",
    "batch_delay = 60  # in seconds\n",
    "\n",
    "# Iterate over the filtered tables in batches\n",
    "for i in range(0, len(filtered_tables), batch_size):\n",
    "    batch_tables = filtered_tables[i:i + batch_size]\n",
    "    for table_name in batch_tables:\n",
    "        try:\n",
    "            result = fabric_ops.trigger_table_maintenance_job(table_name=table_name, token=token)\n",
    "            if result is not None:\n",
    "                print(f\"Table maintenance job triggered for table: {table_name}\")\n",
    "            else:\n",
    "                print(f\"Failed to trigger table maintenance job for table: {table_name}\")\n",
    "        except Exception as e:\n",
    "            print(f\"An error occurred for table {table_name}: {e}\")\n",
    "    \n",
    "    # Delay between batches\n",
    "    if i + batch_size < len(filtered_tables):\n",
    "        print(f\"Waiting for {batch_delay} seconds before triggering the next batch...\")\n",
    "        time.sleep(batch_delay)"
   ]
  }
 ],
 "metadata": {
  "kernelspec": {
   "display_name": "Python 3",
   "language": "python",
   "name": "python3"
  },
  "language_info": {
   "codemirror_mode": {
    "name": "ipython",
    "version": 3
   },
   "file_extension": ".py",
   "mimetype": "text/x-python",
   "name": "python",
   "nbconvert_exporter": "python",
   "pygments_lexer": "ipython3",
   "version": "3.12.3"
  }
 },
 "nbformat": 4,
 "nbformat_minor": 2
}
