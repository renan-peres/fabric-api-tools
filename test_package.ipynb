{
 "cells": [
  {
   "cell_type": "code",
   "execution_count": 2,
   "metadata": {},
   "outputs": [
    {
     "name": "stdout",
     "output_type": "stream",
     "text": [
      "Defaulting to user installation because normal site-packages is not writeable\n",
      "Collecting git+https://github.com/renan-peres/fabric-apis.git\n",
      "  Cloning https://github.com/renan-peres/fabric-apis.git to c:\\users\\renan\\appdata\\local\\temp\\pip-req-build-3367_3ev\n",
      "  Resolved https://github.com/renan-peres/fabric-apis.git to commit ab02e4425bc87fdde337287ea6df640da7e714ae\n",
      "  Preparing metadata (setup.py): started\n",
      "  Preparing metadata (setup.py): finished with status 'done'\n",
      "Requirement already satisfied: requests in c:\\users\\renan\\appdata\\local\\packages\\pythonsoftwarefoundation.python.3.12_qbz5n2kfra8p0\\localcache\\local-packages\\python312\\site-packages (from fabric-apis==0.1.0) (2.32.3)\n",
      "Requirement already satisfied: azure-identity in c:\\users\\renan\\appdata\\local\\packages\\pythonsoftwarefoundation.python.3.12_qbz5n2kfra8p0\\localcache\\local-packages\\python312\\site-packages (from fabric-apis==0.1.0) (1.17.0)\n",
      "Requirement already satisfied: azure-storage-file-datalake in c:\\users\\renan\\appdata\\local\\packages\\pythonsoftwarefoundation.python.3.12_qbz5n2kfra8p0\\localcache\\local-packages\\python312\\site-packages (from fabric-apis==0.1.0) (12.15.0)\n",
      "Requirement already satisfied: python-dotenv in c:\\users\\renan\\appdata\\local\\packages\\pythonsoftwarefoundation.python.3.12_qbz5n2kfra8p0\\localcache\\local-packages\\python312\\site-packages (from fabric-apis==0.1.0) (1.0.1)\n",
      "Requirement already satisfied: azure-core>=1.23.0 in c:\\users\\renan\\appdata\\local\\packages\\pythonsoftwarefoundation.python.3.12_qbz5n2kfra8p0\\localcache\\local-packages\\python312\\site-packages (from azure-identity->fabric-apis==0.1.0) (1.30.1)\n",
      "Requirement already satisfied: cryptography>=2.5 in c:\\users\\renan\\appdata\\local\\packages\\pythonsoftwarefoundation.python.3.12_qbz5n2kfra8p0\\localcache\\local-packages\\python312\\site-packages (from azure-identity->fabric-apis==0.1.0) (42.0.5)\n",
      "Requirement already satisfied: msal>=1.24.0 in c:\\users\\renan\\appdata\\local\\packages\\pythonsoftwarefoundation.python.3.12_qbz5n2kfra8p0\\localcache\\local-packages\\python312\\site-packages (from azure-identity->fabric-apis==0.1.0) (1.28.0)\n",
      "Requirement already satisfied: msal-extensions>=0.3.0 in c:\\users\\renan\\appdata\\local\\packages\\pythonsoftwarefoundation.python.3.12_qbz5n2kfra8p0\\localcache\\local-packages\\python312\\site-packages (from azure-identity->fabric-apis==0.1.0) (1.1.0)\n",
      "Requirement already satisfied: typing-extensions>=4.0.0 in c:\\users\\renan\\appdata\\local\\packages\\pythonsoftwarefoundation.python.3.12_qbz5n2kfra8p0\\localcache\\local-packages\\python312\\site-packages (from azure-identity->fabric-apis==0.1.0) (4.11.0)\n",
      "Requirement already satisfied: azure-storage-blob>=12.20.0 in c:\\users\\renan\\appdata\\local\\packages\\pythonsoftwarefoundation.python.3.12_qbz5n2kfra8p0\\localcache\\local-packages\\python312\\site-packages (from azure-storage-file-datalake->fabric-apis==0.1.0) (12.20.0)\n",
      "Requirement already satisfied: isodate>=0.6.1 in c:\\users\\renan\\appdata\\local\\packages\\pythonsoftwarefoundation.python.3.12_qbz5n2kfra8p0\\localcache\\local-packages\\python312\\site-packages (from azure-storage-file-datalake->fabric-apis==0.1.0) (0.6.1)\n",
      "Requirement already satisfied: charset-normalizer<4,>=2 in c:\\users\\renan\\appdata\\local\\packages\\pythonsoftwarefoundation.python.3.12_qbz5n2kfra8p0\\localcache\\local-packages\\python312\\site-packages (from requests->fabric-apis==0.1.0) (3.3.2)\n",
      "Requirement already satisfied: idna<4,>=2.5 in c:\\users\\renan\\appdata\\local\\packages\\pythonsoftwarefoundation.python.3.12_qbz5n2kfra8p0\\localcache\\local-packages\\python312\\site-packages (from requests->fabric-apis==0.1.0) (3.7)\n",
      "Requirement already satisfied: urllib3<3,>=1.21.1 in c:\\users\\renan\\appdata\\local\\packages\\pythonsoftwarefoundation.python.3.12_qbz5n2kfra8p0\\localcache\\local-packages\\python312\\site-packages (from requests->fabric-apis==0.1.0) (2.2.1)\n",
      "Requirement already satisfied: certifi>=2017.4.17 in c:\\users\\renan\\appdata\\local\\packages\\pythonsoftwarefoundation.python.3.12_qbz5n2kfra8p0\\localcache\\local-packages\\python312\\site-packages (from requests->fabric-apis==0.1.0) (2024.2.2)\n",
      "Requirement already satisfied: six>=1.11.0 in c:\\users\\renan\\appdata\\local\\packages\\pythonsoftwarefoundation.python.3.12_qbz5n2kfra8p0\\localcache\\local-packages\\python312\\site-packages (from azure-core>=1.23.0->azure-identity->fabric-apis==0.1.0) (1.16.0)\n",
      "Requirement already satisfied: cffi>=1.12 in c:\\users\\renan\\appdata\\local\\packages\\pythonsoftwarefoundation.python.3.12_qbz5n2kfra8p0\\localcache\\local-packages\\python312\\site-packages (from cryptography>=2.5->azure-identity->fabric-apis==0.1.0) (1.16.0)\n",
      "Requirement already satisfied: PyJWT<3,>=1.0.0 in c:\\users\\renan\\appdata\\local\\packages\\pythonsoftwarefoundation.python.3.12_qbz5n2kfra8p0\\localcache\\local-packages\\python312\\site-packages (from PyJWT[crypto]<3,>=1.0.0->msal>=1.24.0->azure-identity->fabric-apis==0.1.0) (2.8.0)\n",
      "Requirement already satisfied: packaging in c:\\users\\renan\\appdata\\local\\packages\\pythonsoftwarefoundation.python.3.12_qbz5n2kfra8p0\\localcache\\local-packages\\python312\\site-packages (from msal-extensions>=0.3.0->azure-identity->fabric-apis==0.1.0) (24.0)\n",
      "Requirement already satisfied: portalocker<3,>=1.6 in c:\\users\\renan\\appdata\\local\\packages\\pythonsoftwarefoundation.python.3.12_qbz5n2kfra8p0\\localcache\\local-packages\\python312\\site-packages (from msal-extensions>=0.3.0->azure-identity->fabric-apis==0.1.0) (2.8.2)\n",
      "Requirement already satisfied: pycparser in c:\\users\\renan\\appdata\\local\\packages\\pythonsoftwarefoundation.python.3.12_qbz5n2kfra8p0\\localcache\\local-packages\\python312\\site-packages (from cffi>=1.12->cryptography>=2.5->azure-identity->fabric-apis==0.1.0) (2.22)\n",
      "Requirement already satisfied: pywin32>=226 in c:\\users\\renan\\appdata\\local\\packages\\pythonsoftwarefoundation.python.3.12_qbz5n2kfra8p0\\localcache\\local-packages\\python312\\site-packages (from portalocker<3,>=1.6->msal-extensions>=0.3.0->azure-identity->fabric-apis==0.1.0) (306)\n",
      "Building wheels for collected packages: fabric-apis\n",
      "  Building wheel for fabric-apis (setup.py): started\n",
      "  Building wheel for fabric-apis (setup.py): finished with status 'done'\n",
      "  Created wheel for fabric-apis: filename=fabric_apis-0.1.0-py3-none-any.whl size=6292 sha256=b2b3b4c616ae4161702195644721daa59a65410b42b1976d50d8a44419ab1f07\n",
      "  Stored in directory: C:\\Users\\renan\\AppData\\Local\\Temp\\pip-ephem-wheel-cache-rg0bf4h9\\wheels\\c7\\72\\04\\826ef074d16f22a079f44e986b4a65d0dec305c243d910dca0\n",
      "Successfully built fabric-apis\n",
      "Installing collected packages: fabric-apis\n",
      "Successfully installed fabric-apis-0.1.0\n",
      "Note: you may need to restart the kernel to use updated packages.\n"
     ]
    },
    {
     "name": "stderr",
     "output_type": "stream",
     "text": [
      "  Running command git clone --filter=blob:none --quiet https://github.com/renan-peres/fabric-apis.git 'C:\\Users\\renan\\AppData\\Local\\Temp\\pip-req-build-3367_3ev'\n",
      "\n",
      "[notice] A new release of pip is available: 24.0 -> 24.1\n",
      "[notice] To update, run: C:\\Users\\renan\\AppData\\Local\\Microsoft\\WindowsApps\\PythonSoftwareFoundation.Python.3.12_qbz5n2kfra8p0\\python.exe -m pip install --upgrade pip\n"
     ]
    }
   ],
   "source": [
    "%pip install git+https://github.com/renan-peres/fabric-apis.git"
   ]
  },
  {
   "cell_type": "code",
   "execution_count": 4,
   "metadata": {},
   "outputs": [
    {
     "ename": "SyntaxError",
     "evalue": "invalid syntax (2039679064.py, line 1)",
     "output_type": "error",
     "traceback": [
      "\u001b[1;36m  Cell \u001b[1;32mIn[4], line 1\u001b[1;36m\u001b[0m\n\u001b[1;33m    from fabric-apis import FabricAPIOperations\u001b[0m\n\u001b[1;37m               ^\u001b[0m\n\u001b[1;31mSyntaxError\u001b[0m\u001b[1;31m:\u001b[0m invalid syntax\n"
     ]
    }
   ],
   "source": [
    "%pip install git+https://github.com/renan-peres/fabric-apis.git\n",
    "from fabric_apis import FabricAPIOperations"
   ]
  },
  {
   "cell_type": "markdown",
   "metadata": {},
   "source": [
    "### **Import OneLakeRemoteOperations Module from GitHub**\n",
    "**Reference:** [Microsoft Fabric: OneLake Remote Operations](https://github.com/renan-peres/fabric-onelake-remote-operations)"
   ]
  },
  {
   "cell_type": "code",
   "execution_count": 1,
   "metadata": {},
   "outputs": [],
   "source": [
    "import requests\n",
    "\n",
    "# Fetch the main.py file from the GitHub repository\n",
    "url = \"https://raw.githubusercontent.com/renan-peres/fabric-onelake-remote-operations/main/main.py\"\n",
    "response = requests.get(url)\n",
    "exec(response.text)"
   ]
  },
  {
   "cell_type": "markdown",
   "metadata": {},
   "source": [
    "### **Assign OneLakeRemoteOperations and FabricAPIOperations to Variables, & Get Authentication Token**"
   ]
  },
  {
   "cell_type": "code",
   "execution_count": null,
   "metadata": {},
   "outputs": [],
   "source": [
    "%run main.py\n",
    "\n",
    "# Initiate OneLakeRemoteOperations and get the token\n",
    "onelake_ops = OneLakeRemoteOperations()\n",
    "\n",
    "# Get Authentication token from OneLakeRemoteOperations and Save into 'token_store.json'\n",
    "token = onelake_ops.get_bearer_token()\n",
    "\n",
    "# Initiate FabricAPIOperations and call the method\n",
    "fabric_ops = FabricAPIOperations()"
   ]
  },
  {
   "cell_type": "markdown",
   "metadata": {},
   "source": [
    "## **Import/Create Notebook**\n",
    "**Reference:** [Manage and Execute Notebooks in Fabric with APIs](https://learn.microsoft.com/en-us/fabric/data-engineering/notebook-public-api)"
   ]
  },
  {
   "cell_type": "code",
   "execution_count": null,
   "metadata": {},
   "outputs": [],
   "source": [
    "# Create Notebook in Workspace\n",
    "fabric_ops.import_notebook_to_fabric(\n",
    "    token=token,\n",
    "    upload_from=\"github\",  # ('local', 'lakehouse', or 'github')\n",
    "    # source_path=\"Files/GitHub/notebooks/R in Spark/R_in_PySpark_Notebooks.ipynb\", # lakehouse\n",
    "    source_path=\"https://github.com/renan-peres/Polars-Cookbook/blob/main/Chapter07/ch07.ipynb\", # github\n",
    "    # source_path=\"test.ipynb\", # local\n",
    "    known_lakehouses=[\"3b9aef1c-59f2-47d9-a8b2-d8b234536427\", \"46389222-328e-4e65-aa06-02a380dd60d8\"], # [LH_Test (Default), LH_bronze]\n",
    "    # Optional parameters:\n",
    "    # default_lakehouse_id=\"46389222-328e-4e65-aa06-02a380dd60d8\", # LH_bronze\n",
    "    # default_lakehouse_workspace_id=\"custom_workspace_id\",\n",
    "    # environment_id=\"custom_environment_id\",\n",
    "    # environment_workspace_id=\"custom_environmet_workspace_id\"\n",
    ")"
   ]
  },
  {
   "cell_type": "markdown",
   "metadata": {},
   "source": [
    "## **Run Spark Notebook**\n",
    "**Reference:** [Manage and Execute Notebooks in Fabric with APIs](https://learn.microsoft.com/en-us/fabric/data-engineering/notebook-public-api)"
   ]
  },
  {
   "cell_type": "code",
   "execution_count": null,
   "metadata": {},
   "outputs": [],
   "source": [
    "%run get-bearer-token.py\n",
    "\n",
    "def run_notebook_job(artifact_id: str, workspace_id: str, lakehouse_name: str, lakehouse_id: str, token: str) -> str:\n",
    "    endpoint = f\"https://api.fabric.microsoft.com/v1/workspaces/{workspace_id}/items/{artifact_id}/jobs/instances?jobType=RunNotebook\"\n",
    "    payload = {\n",
    "        \"executionData\": {\n",
    "                \"defaultLakehouse\": {\n",
    "                    \"name\": lakehouse_name,\n",
    "                    \"id\": lakehouse_id,\n",
    "                },\n",
    "                \"useStarterPool\": True\n",
    "            }\n",
    "        }\n",
    "    headers = {\"Authorization\": f\"Bearer {token}\", \"Content-Type\": \"application/json\"}\n",
    "    response = requests.post(endpoint, json=payload, headers=headers)\n",
    "    if response.status_code == 202:\n",
    "        return response.headers.get(\"Location\")\n",
    "    else:\n",
    "        print(f\"Failed to trigger table maintenance job. Status code: {response.status_code}, Response text: {response.text}\")\n",
    "        return None\n",
    "\n",
    "# Microsoft Fabric Details from Environment Variables\n",
    "workspace_id=os.getenv(\"WORKSPACE_ID\")\n",
    "artifact_id = os.getenv(\"ARTIFACT_ID\")\n",
    "lakehouse_id=os.getenv(\"LAKEHOUSE_ID\")\n",
    "lakehouse_name = os.getenv(\"LAKEHOUSE_NAME\")\n",
    "\n",
    "# Get the token using the class method\n",
    "onelake_ops = OneLakeRemoteOperations()\n",
    "token = onelake_ops.get_bearer_token()\n",
    "\n",
    "# Trigger the pipeline job\n",
    "run_notebook_job(workspace_id = workspace_id, \n",
    "                 artifact_id=artifact_id, \n",
    "                 lakehouse_id = lakehouse_id, \n",
    "                 lakehouse_name=lakehouse_name, \n",
    "                 token=token)"
   ]
  },
  {
   "cell_type": "markdown",
   "metadata": {},
   "source": [
    "## **Run Data Pipeline**\n",
    "**Reference:** [Microsoft Fabric data pipeline public REST API](https://learn.microsoft.com/en-us/fabric/data-factory/pipeline-rest-api)"
   ]
  },
  {
   "cell_type": "code",
   "execution_count": null,
   "metadata": {},
   "outputs": [],
   "source": [
    "%run main.py\n",
    "\n",
    "def trigger_pipeline_job(workspace_id: str, pipeline_id: str, token: str) -> str:\n",
    "    endpoint = f\"https://api.fabric.microsoft.com/v1/workspaces/{workspace_id}/items/{pipeline_id}/jobs/instances?jobType=Pipeline\"\n",
    "    headers = {\"Authorization\": f\"Bearer {token}\", \"Content-Type\": \"application/json\"}\n",
    "    response = requests.post(endpoint, headers=headers)\n",
    "    if response.status_code == 202:\n",
    "        return response.headers.get(\"Location\")\n",
    "    else:\n",
    "        response.raise_for_status()\n",
    "\n",
    "# Microsoft Fabric Details from Environment Variables\n",
    "workspace_id = os.getenv(\"WORKSPACE_ID\")\n",
    "pipeline_id = os.getenv(\"PIPELINE_ID\")\n",
    "\n",
    "# Get the token using the class method\n",
    "onelake_ops = OneLakeRemoteOperations()\n",
    "token = onelake_ops.get_bearer_token()\n",
    "\n",
    "# Trigger the pipeline job\n",
    "job_location = trigger_pipeline_job(workspace_id=workspace_id,\n",
    "                                    pipeline_id=pipeline_id,\n",
    "                                    token=token)\n",
    "\n",
    "print(f\"Pipeline job triggered. Job location: {job_location}\")"
   ]
  },
  {
   "cell_type": "markdown",
   "metadata": {},
   "source": [
    "## **Run Delta Table Maintenance (REST API)**\n",
    "**Reference:** [Background Jobs - Run On Demand Table Maintenance](https://learn.microsoft.com/en-us/rest/api/fabric/lakehouse/background-jobs/run-on-demand-table-maintenance?tabs=HTTP)"
   ]
  },
  {
   "cell_type": "code",
   "execution_count": null,
   "metadata": {},
   "outputs": [],
   "source": [
    "%run ../main.py\n",
    "\n",
    "def trigger_table_maintenance_job(table_name: str, token: str) -> str:\n",
    "    endpoint = f\"https://api.fabric.microsoft.com/v1/workspaces/{WORKSPACE_ID}/lakehouses/{LAKEHOUSE_ID}/jobs/instances?jobType=TableMaintenance\"\n",
    "    payload = {\"executionData\": {\"tableName\": table_name, \"optimizeSettings\": {\"vOrder\": True}, \"vacuumSettings\": {\"retentionPeriod\": \"7:01:00:00\"}}}\n",
    "    headers = {\"Authorization\": f\"Bearer {token}\", \"Content-Type\": \"application/json\"}\n",
    "    response = requests.post(endpoint, json=payload, headers=headers)\n",
    "    if response.status_code == 202:\n",
    "        return response.headers.get(\"Location\")\n",
    "    else:\n",
    "        print(f\"Failed to trigger table maintenance job. Status code: {response.status_code}, Response text: {response.text}\")\n",
    "        return None\n",
    "    \n",
    "def get_bearer_token() -> str:\n",
    "    return InteractiveBrowserCredential().get_token(\"https://api.fabric.microsoft.com/.default\").token\n",
    "\n",
    "def get_authentication_token() -> DefaultAzureCredential:\n",
    "    return DefaultAzureCredential()"
   ]
  },
  {
   "cell_type": "markdown",
   "metadata": {},
   "source": [
    "#### **Single Table**"
   ]
  },
  {
   "cell_type": "code",
   "execution_count": null,
   "metadata": {},
   "outputs": [],
   "source": [
    "%run ../main.py\n",
    "\n",
    "# Get token\n",
    "token = get_bearer_token() # Interactive Browser\n",
    "# token = get_authentication_token().get_token(\"https://api.fabric.microsoft.com/.default\").token # Service Principal\n",
    "\n",
    "# Execute table maintenance job\n",
    "trigger_table_maintenance_job(table_name=\"dim_coa_gold\", token=token)"
   ]
  },
  {
   "cell_type": "markdown",
   "metadata": {},
   "source": [
    "#### **All Tables**"
   ]
  },
  {
   "cell_type": "code",
   "execution_count": null,
   "metadata": {},
   "outputs": [],
   "source": [
    "%run ../main.py\n",
    "\n",
    "# Get token\n",
    "token = get_bearer_token() # Interactive Browser\n",
    "# token = get_authentication_token().get_token(\"https://api.fabric.microsoft.com/.default\").token # Service Principal\n",
    "file_system_client = get_file_system_client(get_authentication_token())\n",
    "\n",
    "# Get the filtered subdirectory names for \"Tables\"\n",
    "filtered_tables = list_items(file_system_client=file_system_client, target_directory_path=\"Tables\")\n",
    "\n",
    "# Define batch size and delay between batches\n",
    "batch_size = 5\n",
    "batch_delay = 60  # in seconds\n",
    "\n",
    "# Iterate over the filtered tables in batches\n",
    "for i in range(0, len(filtered_tables), batch_size):\n",
    "    batch_tables = filtered_tables[i:i + batch_size]\n",
    "    for table_name in batch_tables:\n",
    "        try:\n",
    "            result = trigger_table_maintenance_job(table_name=table_name, token=token)\n",
    "            if result is not None:\n",
    "                print(f\"Table maintenance job triggered for table: {table_name}\")\n",
    "            else:\n",
    "                print(f\"Failed to trigger table maintenance job for table: {table_name}\")\n",
    "        except Exception as e:\n",
    "            print(f\"An error occurred for table {table_name}: {e}\")\n",
    "    \n",
    "    # Delay between batches\n",
    "    if i + batch_size < len(filtered_tables):\n",
    "        print(f\"Waiting for {batch_delay} seconds before triggering the next batch...\")\n",
    "        time.sleep(batch_delay)"
   ]
  }
 ],
 "metadata": {
  "kernelspec": {
   "display_name": "Python 3",
   "language": "python",
   "name": "python3"
  },
  "language_info": {
   "codemirror_mode": {
    "name": "ipython",
    "version": 3
   },
   "file_extension": ".py",
   "mimetype": "text/x-python",
   "name": "python",
   "nbconvert_exporter": "python",
   "pygments_lexer": "ipython3",
   "version": "3.12.3"
  }
 },
 "nbformat": 4,
 "nbformat_minor": 2
}
